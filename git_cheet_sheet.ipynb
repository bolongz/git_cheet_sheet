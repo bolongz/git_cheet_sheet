{
 "cells": [
  {
   "cell_type": "markdown",
   "metadata": {},
   "source": [
    "**Git cheet sheet**\n",
    "- git log: Get the git history\n",
    "- git reset --hard HEAD^: Go back one step to the old version\n",
    "- git reset --hard HEAD^^: Go back two steps to the old version\n",
    "- git reset --hard HEAD~N: Go back N steps to the old version\n",
    "- git reflog: Record the commands for all the git operation\n",
    "- git add: Add file into the staged directory\n",
    "- got commit: Commit the changes into the local branch\n",
    "- git diff HEAD -- FILENAME: Check the difference between the current working branch and lastest committed branch\n",
    "- git checkout -- FILENAME: Discard the changes for the files in the current working branch\n",
    "- git rm: Delete file from the version control branch\n",
    "- git remote add origin git@github.com:michaelliao/learngit.git: add remote repos for the local directory\n",
    "- git push -u origin master: push all the contents to the remote branch\n",
    "- git clone: clone remote branch\n",
    "- git checkout -b dev: git branch dev/git checkout dev: Created a branch and switch into that branch\n",
    "- git branch: check which branch right now\n",
    "- git merge name: merge the branch into current branch\n",
    "- git branch -d dev: deleted branch dev(-D for the force delete)\n",
    "- git log --graph: Check the graph for the merge of the branch\n",
    "- git merge --no-ff -m \"merge with no-ff\" dev: Merge with no fast-forward, which will generate a new commit and keep the commit history\n",
    "- git stash: Save the working directory\n",
    "- git stash list: get the stash lists\n",
    "- git stash apply: apply the stached working diretory. The stashed files will be keeped\n",
    "- git stash pop: recovery from the stash and delete the stash history\n",
    "- git rebase\n",
    "\n",
    "Tutorial: https://www.liaoxuefeng.com/wiki/0013739516305929606dd18361248578c67b8067c8c017b000\n",
    "\n",
    "Git Book: https://git-scm.com/book/zh/v2"
   ]
  },
  {
   "cell_type": "code",
   "execution_count": null,
   "metadata": {},
   "outputs": [],
   "source": [
    "\n"
   ]
  }
 ],
 "metadata": {
  "kernelspec": {
   "display_name": "Julia 1.0.3",
   "language": "julia",
   "name": "julia-1.0"
  },
  "language_info": {
   "file_extension": ".jl",
   "mimetype": "application/julia",
   "name": "julia",
   "version": "1.0.3"
  }
 },
 "nbformat": 4,
 "nbformat_minor": 2
}
